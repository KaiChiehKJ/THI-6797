{
 "cells": [
  {
   "cell_type": "markdown",
   "metadata": {},
   "source": [
    "# Setup"
   ]
  },
  {
   "cell_type": "code",
   "execution_count": 1,
   "metadata": {},
   "outputs": [
    {
     "name": "stderr",
     "output_type": "stream",
     "text": [
      "/Users/zhangkaijie/Library/Python/3.9/lib/python/site-packages/urllib3/__init__.py:35: NotOpenSSLWarning: urllib3 v2 only supports OpenSSL 1.1.1+, currently the 'ssl' module is compiled with 'LibreSSL 2.8.3'. See: https://github.com/urllib3/urllib3/issues/3020\n",
      "  warnings.warn(\n"
     ]
    }
   ],
   "source": [
    "from GISshape import *\n",
    "from ProcessBasic import *"
   ]
  },
  {
   "cell_type": "markdown",
   "metadata": {},
   "source": [
    "# 主程式"
   ]
  },
  {
   "cell_type": "markdown",
   "metadata": {},
   "source": [
    "## 處理速率資料"
   ]
  },
  {
   "cell_type": "markdown",
   "metadata": {},
   "source": [
    "### (1) 數化路段"
   ]
  },
  {
   "cell_type": "code",
   "execution_count": 2,
   "metadata": {},
   "outputs": [
    {
     "name": "stdout",
     "output_type": "stream",
     "text": [
      "無法計算路線：IllegalArgumentException: point array must contain 0 or >1 elements\n",
      "\n"
     ]
    }
   ],
   "source": [
    "def change_file_columns_En(df):\n",
    "    df = df.rename(columns={\n",
    "    \"速率調查點位編號\": \"RouteID\",\n",
    "    \"路段\": \"Road\",\n",
    "    \"路段順序\": \"SeqNum\",\n",
    "    \"方向\": \"Direction\",\n",
    "    \"路口起點\": \"Start\",\n",
    "    \"起點緯度\": \"StartY\",\n",
    "    \"起點經度\": \"StartX\",\n",
    "    \"路口迄點\": \"End\",\n",
    "    \"迄點緯度\": \"EndY\",\n",
    "    \"迄點經度\": \"EndX\",\n",
    "    \"路線長度(公尺)\": \"Length\"})\n",
    "    return df \n",
    "\n",
    "\n",
    "shpoutputfolder = create_folder(os.path.join(os.getcwd(), '..', '調查路段shp'))\n",
    "path = os.path.abspath(os.path.join(os.getcwd(), '..','速率調查路段.xlsx'))\n",
    "df = pd.read_excel(path, sheet_name= '速率調查路段')\n",
    "\n",
    "# 產生整條的路線\n",
    "route_gdf = generate_busroutewithseq(df = df , idcolumns='速率調查點位編號', seqcolumns = '路段順序', xcolumns = '起點經度', ycolumns = '起點緯度', location = 'Hsinchu County, Taiwan' , direction_column=None)\n",
    "route_gdf = change_file_columns_En(route_gdf)\n",
    "route_gdf.to_file(os.path.join(shpoutputfolder, '速率調查路段.shp'))\n",
    "\n",
    "# 產生分段的路線\n",
    "route_seperate_gdf = generate_route(df=df[df[\"路段順序\"] != df.groupby(\"速率調查點位編號\")[\"路段順序\"].transform(\"max\")], \n",
    "                                    startpoint_x='起點經度', startpoint_y='起點緯度', \n",
    "                                    endpoint_x='迄點經度', endpoint_y='迄點緯度',\n",
    "                                    network_type='drive' ,Citylist=['Hsinchu County'])\n",
    "route_seperate_gdf = route_seperate_gdf[route_seperate_gdf['geometry'] != None]\n",
    "route_seperate_gdf = change_file_columns_En(route_seperate_gdf)\n",
    "route_seperate_gdf.to_file(os.path.join(shpoutputfolder, '速率調查路段_分段.shp'))"
   ]
  }
 ],
 "metadata": {
  "kernelspec": {
   "display_name": "Python 3",
   "language": "python",
   "name": "python3"
  },
  "language_info": {
   "codemirror_mode": {
    "name": "ipython",
    "version": 3
   },
   "file_extension": ".py",
   "mimetype": "text/x-python",
   "name": "python",
   "nbconvert_exporter": "python",
   "pygments_lexer": "ipython3",
   "version": "3.9.6"
  }
 },
 "nbformat": 4,
 "nbformat_minor": 2
}
